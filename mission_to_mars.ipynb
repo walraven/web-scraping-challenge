{
 "cells": [
  {
   "cell_type": "code",
   "execution_count": 1,
   "metadata": {},
   "outputs": [],
   "source": [
    "#imports\n",
    "import pandas as pd\n",
    "from bs4 import BeautifulSoup\n",
    "from splinter import Browser\n",
    "import requests"
   ]
  },
  {
   "cell_type": "code",
   "execution_count": 2,
   "metadata": {},
   "outputs": [],
   "source": [
    "#get nasa article title and blurb\n",
    "nasa_url = 'https://mars.nasa.gov/news/'\n",
    "response_nasa = requests.get(nasa_url)\n",
    "soup = BeautifulSoup(response_nasa.text)\n",
    "news_title = soup.find('div', class_='content_title').text.strip()\n",
    "news_p = soup.find('div', class_='rollover_description_inner').text.strip()"
   ]
  },
  {
   "cell_type": "code",
   "execution_count": 3,
   "metadata": {},
   "outputs": [],
   "source": [
    "#get featured mars image from nasa jpl\n",
    "jpl_url = 'https://www.jpl.nasa.gov'\n",
    "mars_search_url = '/spaceimages/?search=&category=Mars'\n",
    "response_jpl = requests.get(jpl_url+mars_search_url)\n",
    "soup = BeautifulSoup(response_jpl.text)\n",
    "img_tag = soup.find('img', class_='thumb')\n",
    "img_url = img_tag['src']\n",
    "img_url = img_url.replace('-640x350', '_hires')\n",
    "img_url = img_url.replace('wallpaper', 'largesize')\n",
    "featured_img_url = jpl_url + img_url"
   ]
  },
  {
   "cell_type": "code",
   "execution_count": 4,
   "metadata": {},
   "outputs": [],
   "source": [
    "#get mars weather from Twitter\n",
    "twitter_url = 'https://twitter.com/'\n",
    "mars_twitter_url = 'marswxreport?lang=en'\n",
    "response_twitter = requests.get(twitter_url + mars_twitter_url)\n",
    "soup = BeautifulSoup(response_twitter.text)\n",
    "weather_tweet = soup.find('p', class_='tweet-text').text.strip()\\\n",
    "                .split('pic.twitter.com')[0].replace('\\n', '')"
   ]
  },
  {
   "cell_type": "code",
   "execution_count": 5,
   "metadata": {},
   "outputs": [],
   "source": [
    "#get mars facts from space-facts.com\n",
    "facts_url = 'https://space-facts.com/mars/'\n",
    "tables = pd.read_html(facts_url)\n",
    "mars_table = tables[0]\n",
    "mars_table.rename(columns={0:'Measurement', 1:'Value'}, inplace=True)\n",
    "mars_table_html = mars_table.to_html()"
   ]
  },
  {
   "cell_type": "code",
   "execution_count": 6,
   "metadata": {},
   "outputs": [
    {
     "name": "stderr",
     "output_type": "stream",
     "text": [
      "C:\\Users\\Taylor\\Anaconda3\\envs\\PandasLearn\\lib\\site-packages\\splinter\\driver\\webdriver\\__init__.py:528: FutureWarning: browser.find_link_by_partial_text is deprecated. Use browser.links.find_by_partial_text instead.\n",
      "  FutureWarning,\n",
      "C:\\Users\\Taylor\\Anaconda3\\envs\\PandasLearn\\lib\\site-packages\\splinter\\driver\\webdriver\\__init__.py:536: FutureWarning: browser.find_link_by_text is deprecated. Use browser.links.find_by_text instead.\n",
      "  FutureWarning,\n"
     ]
    }
   ],
   "source": [
    "#get mars images from astrogeology.usgs.gov\n",
    "def get_imgs(name, url): #throws deprecation warnings...\n",
    "    browser.visit(url)\n",
    "    browser.click_link_by_partial_text(name) #but the documentation...\n",
    "    img_title = browser.title.split(' Enhanced')[0]\n",
    "    browser.click_link_by_text('Sample') #hasn't been updated so \\_(-_-)_/\n",
    "    img_url = browser.windows[1].url\n",
    "    for window in browser.windows:\n",
    "        window.close()\n",
    "    return {'title':img_title,'img_url':img_url}\n",
    "\n",
    "hemispheres_url = 'https://astrogeology.usgs.gov/search/results?q='\n",
    "search_query = 'hemisphere+enhanced&k1=target&v1=Mars'\n",
    "total_url = hemispheres_url + search_query\n",
    "hemisphere_names = [\n",
    "    'Cerberus', 'Schiaparelli', 'Syrtis Major', 'Valles Marineris'\n",
    "    ]\n",
    "browser = Browser('chrome', headless=True)\n",
    "hemisphere_imgs = [get_imgs(name, total_url) for name in hemisphere_names]\n",
    "browser.quit()"
   ]
  }
 ],
 "metadata": {
  "kernelspec": {
   "display_name": "Python [conda env:PandasLearn] *",
   "language": "python",
   "name": "conda-env-PandasLearn-py"
  },
  "language_info": {
   "codemirror_mode": {
    "name": "ipython",
    "version": 3
   },
   "file_extension": ".py",
   "mimetype": "text/x-python",
   "name": "python",
   "nbconvert_exporter": "python",
   "pygments_lexer": "ipython3",
   "version": "3.7.4"
  }
 },
 "nbformat": 4,
 "nbformat_minor": 2
}
